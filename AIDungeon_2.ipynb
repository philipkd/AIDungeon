{
  "nbformat": 4,
  "nbformat_minor": 0,
  "metadata": {
    "colab": {
      "name": "AIDungeon 2.ipynb",
      "provenance": [],
      "collapsed_sections": [],
      "toc_visible": true,
      "include_colab_link": true
    },
    "kernelspec": {
      "name": "python3",
      "display_name": "Python 3"
    }
  },
  "cells": [
    {
      "cell_type": "markdown",
      "metadata": {
        "id": "view-in-github",
        "colab_type": "text"
      },
      "source": [
        "<a href=\"https://colab.research.google.com/github/philipkd/AIDungeon/blob/colab-compat/AIDungeon_2.ipynb\" target=\"_parent\"><img src=\"https://colab.research.google.com/assets/colab-badge.svg\" alt=\"Open In Colab\"/></a>"
      ]
    },
    {
      "cell_type": "markdown",
      "metadata": {
        "colab_type": "text",
        "id": "pdmJ358wwzmv"
      },
      "source": [
        "![BYU PCCL](https://pcc4318.files.wordpress.com/2018/02/asset-1.png?w=150)\n",
        "\n",
        "Sponsored by the BYU PCCL Lab.\n",
        "\n",
        "> AI Dungeon 2 is a completely AI generated text adventure built with OpenAI's largest GPT-2 model. It's a first of it's kind game that allows you to enter and will react to any action you can imagine.\n",
        "\n",
        "# What is this?\n",
        "Google Colab is a way to experience machine learning for free. Google provides GPUs that you can run code in. Because this game exploded however, Google likely won't be able to allow free usage of it for AI Dungeon for very long. We are almost done making an app version of the game where you will be able to play AI Dungeon 2. Until that's released you can still play the game here.\n",
        "\n",
        "# Main mirrors of AI Dungeon 2 are currently down due to high download costs.\n",
        "We are using bittorrent as a temporary solution to host game files and keep this game alive. It's not fast, but it's the best we've got right now.\n",
        "\n",
        "If you want to help, best thing you can do is to **[download this torrent file with game files](https://github.com/nickwalton/AIDungeon/files/3935881/model_v5.torrent.zip)** and **seed it** indefinitely to the best of your ability. This will help new players download this game faster, and discover the vast worlds of AIDungeon2!\n",
        "\n",
        "- <a href=\"https://twitter.com/nickwalton00?ref_src=twsrc%5Etfw\" class=\"twitter-follow-button\" data-show-count=\"false\">Follow @nickwalton00</a> on Twitter for updates on when it will be available again.\n",
        "- **[Support AI Dungeon 2](https://www.patreon.com/AIDungeon) on Patreon to help me to continue improving the game with all the awesome ideas I have for its future!**\n",
        "\n",
        "## How to play\n",
        "1. Click \"Tools\"-> \"Settings...\" -> \"Theme\" -> \"Dark\" (optional but recommended)\n",
        "2. Go to **Main Game** section below\n",
        "3. Run Install block\n",
        "3. Run Download Model block \n",
        "4. It will then take a couple minutes to boot up as the model is downloaded loaded onto the GPU. \n",
        "5. Run the game block \n",
        "6. If you have questions about getting it to work then please [go to github repo](https://github.com/AIDungeon/AIDungeon) to get help. \n",
        "\n",
        "## About\n",
        "- While you wait you can [read adventures others have had](https://aidungeon.io/)\n",
        "- [Read more](https://pcc.cs.byu.edu/2019/11/21/ai-dungeon-2-creating-infinitely-generated-text-adventures-with-deep-learning-language-models/) about how AI Dungeon 2 is made.\n",
        "- **[Support AI Dungeon 2](https://www.patreon.com/bePatron?u=19115449) on Patreon to help me to continue improving the game with all the awesome ideas I have for its future!**"
      ]
    },
    {
      "cell_type": "markdown",
      "metadata": {
        "colab_type": "text",
        "id": "pyNN-3UDv0L-"
      },
      "source": [
        "# Main Game"
      ]
    },
    {
      "cell_type": "code",
      "metadata": {
        "colab_type": "code",
        "id": "FKqlSCrpS9dH",
        "colab": {
          "base_uri": "https://localhost:8080/",
          "height": 136
        },
        "outputId": "3a3eae74-703b-4a4f-c8a7-e9bfbbcb9b58"
      },
      "source": [
        "# Install\n",
        "!git clone --depth 1 --branch colab-compat https://github.com/philipkd/AIDungeon\n",
        "%cd AIDungeon"
      ],
      "execution_count": 1,
      "outputs": [
        {
          "output_type": "stream",
          "text": [
            "Cloning into 'AIDungeon'...\n",
            "remote: Enumerating objects: 59, done.\u001b[K\n",
            "remote: Counting objects: 100% (59/59), done.\u001b[K\n",
            "remote: Compressing objects: 100% (52/52), done.\u001b[K\n",
            "remote: Total 59 (delta 3), reused 24 (delta 1), pack-reused 0\u001b[K\n",
            "Unpacking objects: 100% (59/59), done.\n",
            "/content/AIDungeon\n"
          ],
          "name": "stdout"
        }
      ]
    },
    {
      "cell_type": "code",
      "metadata": {
        "id": "txPiibhczHjI",
        "colab_type": "code",
        "colab": {
          "base_uri": "https://localhost:8080/",
          "height": 34
        },
        "outputId": "20393055-d538-47f2-8c89-f53ea748bd91"
      },
      "source": [
        "!./install.sh\n",
        "from IPython.display import clear_output\n",
        "if(_exit_code is 0):\n",
        "  clear_output()\n",
        "  print(\"Installation Complete!\")"
      ],
      "execution_count": 8,
      "outputs": [
        {
          "output_type": "stream",
          "text": [
            "Installation Complete!\n"
          ],
          "name": "stdout"
        }
      ]
    },
    {
      "cell_type": "code",
      "metadata": {
        "colab_type": "code",
        "id": "fiywfTj--_Pe",
        "colab": {}
      },
      "source": [
        "# Download model from torrent:\n",
        "!./download_model.sh\n",
        "from IPython.display import clear_output\n",
        "clear_output()\n",
        "print(\"Download Complete!\")"
      ],
      "execution_count": 0,
      "outputs": []
    },
    {
      "cell_type": "code",
      "metadata": {
        "colab_type": "code",
        "id": "YjArwbWh6XwN",
        "colab": {}
      },
      "source": [
        "# Play\n",
        "from IPython.display import Javascript\n",
        "display(Javascript('''google.colab.output.setIframeHeight(0, true, {maxHeight: 5000})'''))\n",
        "!source ./venv/bin/activate\n",
        "!./venv/bin/python play.py"
      ],
      "execution_count": 0,
      "outputs": []
    },
    {
      "cell_type": "markdown",
      "metadata": {
        "colab_type": "text",
        "id": "kIldfwd8wjvT"
      },
      "source": [
        "# Utilities (Persistent Save / Load, OOM Fix)"
      ]
    },
    {
      "cell_type": "code",
      "metadata": {
        "colab_type": "code",
        "id": "zLx1yMu9wwBg",
        "colab": {}
      },
      "source": [
        "# RUN THIS FIRST before running any block below.\n",
        "# This block mount Google Drive to our workspace \n",
        "# so we can save to and load from it!\n",
        "\n",
        "import pathlib\n",
        "from distutils.dir_util import copy_tree\n",
        "from google.colab import drive\n",
        "\n",
        "drive.mount('/content/drive')\n",
        "\n",
        "drive_stories_directory=\"/content/drive/My Drive/AIDungeon/saved_stories\"\n",
        "colab_stories_directory=\"/content/AIDungeon/saved_stories\"\n",
        "\n",
        "drive_model_directory=\"/content/drive/My Drive/Data/model_v5\"\n",
        "colab_model_directory=\"/content/AIDungeon/generator/gpt2/models/model_v5\"\n",
        "\n",
        "pathlib.Path(drive_stories_directory).mkdir(parents=True, exist_ok=True) "
      ],
      "execution_count": 0,
      "outputs": []
    },
    {
      "cell_type": "code",
      "metadata": {
        "colab_type": "code",
        "id": "LWfm6q8tAbDB",
        "colab": {}
      },
      "source": [
        "# Save stories to your Google Drive\n",
        "copy_tree(\n",
        "    colab_stories_directory, \n",
        "    drive_stories_directory\n",
        ")"
      ],
      "execution_count": 0,
      "outputs": []
    },
    {
      "cell_type": "code",
      "metadata": {
        "colab_type": "code",
        "id": "HK2DO1jFxnv6",
        "colab": {}
      },
      "source": [
        "# Load stories from your Google Drive\n",
        "copy_tree(\n",
        "    drive_stories_directory, \n",
        "    colab_stories_directory\n",
        ")"
      ],
      "execution_count": 0,
      "outputs": []
    },
    {
      "cell_type": "code",
      "metadata": {
        "colab_type": "code",
        "id": "Ue0qY7mvKrZ0",
        "colab": {}
      },
      "source": [
        "# Backup model from Colab to Google Drive. Requires 6.5GB of space!\n",
        "copy_tree(\n",
        "    colab_model_directory,\n",
        "    drive_model_directory\n",
        ")"
      ],
      "execution_count": 0,
      "outputs": []
    },
    {
      "cell_type": "code",
      "metadata": {
        "colab_type": "code",
        "id": "XqK7MXhG40Oa",
        "colab": {}
      },
      "source": [
        "# Copy model from Google Drive. Make sure the model is uploaded to your personal Drive. \n",
        "# It should resides in a Data folder. The path is: /Data/model_v5/\n",
        "copy_tree(\n",
        "    drive_model_directory, \n",
        "    colab_model_directory\n",
        ")"
      ],
      "execution_count": 0,
      "outputs": []
    },
    {
      "cell_type": "code",
      "metadata": {
        "id": "ZtRcHhvzyjcU",
        "colab_type": "code",
        "outputId": "82b69b23-be8c-43c4-a500-d4a1df3bd71d",
        "colab": {}
      },
      "source": [
        "# If you get an OOM (out of memory error, random crashes) \n",
        "# you might want to increase the available RAM. \n",
        "\n",
        "# To do so, run this block. Wait until it crashes\n",
        "# and a little message will pops up asking if \n",
        "# you'd like to increase the available memory. Say yes and run the game.\n",
        "# Credit goes to bpseudopod for figuring this out.\n",
        "# Source: https://www.reddit.com/r/AIDungeon/comments/e782oi/tips_for_crash_prevention/\n",
        "\n",
        "d = []\n",
        "while True:\n",
        "    d.append(1)"
      ],
      "execution_count": 0,
      "outputs": [
        {
          "output_type": "error",
          "evalue": "Error: Jupyter cannot be started. Error attempting to locate jupyter: Error: Module 'notebook' not installed."
        }
      ]
    }
  ]
}